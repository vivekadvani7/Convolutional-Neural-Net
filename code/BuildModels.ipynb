{
  "nbformat": 4,
  "nbformat_minor": 0,
  "metadata": {
    "colab": {
      "name": "BuildModels.ipynb",
      "provenance": []
    },
    "kernelspec": {
      "name": "python3",
      "display_name": "Python 3"
    }
  },
  "cells": [
    {
      "cell_type": "markdown",
      "metadata": {
        "id": "tYpgI4UgGHa7",
        "colab_type": "text"
      },
      "source": [
        "##Step 4: Build a CNN  Model"
      ]
    },
    {
      "cell_type": "code",
      "metadata": {
        "id": "GsY-ZGOEGpOZ",
        "colab_type": "code",
        "colab": {}
      },
      "source": [
        "# Create the model\n",
        "model = Sequential()\n",
        "model.add(Conv2D(32, (3, 3), padding='same', input_shape=(image_size, image_size, 3)))\n",
        "model.add(Activation('relu'))\n",
        "model.add(Conv2D(32,(3, 3)))\n",
        "model.add(Activation('relu'))\n",
        "model.add(MaxPooling2D(pool_size=(2, 2)))\n",
        "model.add(Dropout(0.25))\n",
        " \n",
        "model.add(Conv2D(32, (3, 3), padding='same'))\n",
        "model.add(Activation('relu'))\n",
        "model.add(Conv2D(32, (3,3)))\n",
        "model.add(Activation('relu'))\n",
        "model.add(MaxPooling2D(pool_size=(2, 2)))\n",
        "model.add(Dropout(0.25))\n",
        " \n",
        "model.add(Flatten())\n",
        "model.add(Dense(512))\n",
        "model.add(Activation('relu'))\n",
        "model.add(Dropout(0.5))\n",
        "# Output classes are 30\n",
        "model.add(Dense(30))\n",
        "model.add(Activation('softmax'))\n",
        "\n"
      ],
      "execution_count": 0,
      "outputs": []
    },
    {
      "cell_type": "markdown",
      "metadata": {
        "id": "8K-lh3SUJUMm",
        "colab_type": "text"
      },
      "source": [
        "##Step 7: Build a Fine-Tuned  Model of VGG"
      ]
    },
    {
      "cell_type": "code",
      "metadata": {
        "id": "HVWkIbrzJaVQ",
        "colab_type": "code",
        "colab": {}
      },
      "source": [
        "#Load the VGG model\n",
        "vgg_conv = VGG16(weights='imagenet', include_top=False, input_shape=(image_size, image_size, 3))\n",
        "\n",
        "# Freeze all the layers\n",
        "for layer in vgg_conv.layers[:]:\n",
        "    layer.trainable = False\n",
        "# Check the trainable status of the individual layers\n",
        "for layer in vgg_conv.layers:\n",
        "    print(layer, layer.trainable)\n",
        "\n",
        "\n",
        "\n",
        "\n",
        "# Create the model\n",
        "model_vgg = models.Sequential()\n",
        "# Add the vgg convolutional base model\n",
        "model_vgg.add(vgg_conv)\n",
        "# Add new layers\n",
        "model_vgg.add(layers.Flatten())\n",
        "model_vgg.add(layers.Dense(512, activation='relu'))\n",
        "model_vgg.add(layers.Dropout(0.5))\n",
        "model_vgg.add(layers.Dense(30, activation='softmax'))\n",
        "\n",
        "# Show a summary of the model. Check the number of trainable parameters\n",
        "model.summary()"
      ],
      "execution_count": 0,
      "outputs": []
    }
  ]
}