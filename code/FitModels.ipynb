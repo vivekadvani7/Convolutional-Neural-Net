{
  "nbformat": 4,
  "nbformat_minor": 0,
  "metadata": {
    "colab": {
      "name": "FitModels.ipynb",
      "provenance": []
    },
    "kernelspec": {
      "name": "python3",
      "display_name": "Python 3"
    }
  },
  "cells": [
    {
      "cell_type": "markdown",
      "metadata": {
        "id": "Tvn-ztJ5L-jt",
        "colab_type": "text"
      },
      "source": [
        "## Step 5: Fit Model"
      ]
    },
    {
      "cell_type": "code",
      "metadata": {
        "id": "ygBuhrRTMEdG",
        "colab_type": "code",
        "colab": {}
      },
      "source": [
        "# Compile the model\n",
        "model.compile(loss='categorical_crossentropy',\n",
        "              optimizer=optimizers.RMSprop(lr=1e-4),\n",
        "              metrics=['acc'])\n",
        "\n",
        "# Train the Model\n",
        "history = model.fit_generator(\n",
        "      train_generator,\n",
        "      steps_per_epoch=train_generator.samples/train_generator.batch_size ,\n",
        "      epochs=20,\n",
        "      validation_data=test_generator,\n",
        "      validation_steps=test_generator.samples/test_generator.batch_size,\n",
        "      verbose=1)\n"
      ],
      "execution_count": 0,
      "outputs": []
    },
    {
      "cell_type": "markdown",
      "metadata": {
        "id": "az6DP3dtMLUi",
        "colab_type": "text"
      },
      "source": [
        "##Fit Fine-Tuned  Model of VGG"
      ]
    },
    {
      "cell_type": "code",
      "metadata": {
        "id": "J08zgPabMStI",
        "colab_type": "code",
        "colab": {}
      },
      "source": [
        "# Compile the model\n",
        "model_vgg.compile(loss='categorical_crossentropy',\n",
        "              optimizer=optimizers.RMSprop(lr=1e-4),\n",
        "              metrics=['acc'])\n",
        "\n",
        "# Train the Model\n",
        "history = model_vgg.fit_generator(\n",
        "      train_generator,\n",
        "      steps_per_epoch=train_generator.samples/train_generator.batch_size ,\n",
        "      epochs=8,\n",
        "      validation_data=test_generator,\n",
        "      validation_steps=test_generator.samples/test_generator.batch_size,\n",
        "      verbose=1)\n",
        "\n",
        "\n",
        "\n"
      ],
      "execution_count": 0,
      "outputs": []
    }
  ]
}