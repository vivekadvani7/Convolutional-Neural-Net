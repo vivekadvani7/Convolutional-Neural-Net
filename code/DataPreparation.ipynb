{
  "nbformat": 4,
  "nbformat_minor": 0,
  "metadata": {
    "colab": {
      "name": "DataPreparation.ipynb",
      "provenance": []
    },
    "kernelspec": {
      "name": "python3",
      "display_name": "Python 3"
    }
  },
  "cells": [
    {
      "cell_type": "markdown",
      "metadata": {
        "id": "p0_VzQW6-926",
        "colab_type": "text"
      },
      "source": [
        "##Step 2: Data Preparation"
      ]
    },
    {
      "cell_type": "markdown",
      "metadata": {
        "id": "y8DpkuVwDGMF",
        "colab_type": "text"
      },
      "source": [
        "####Split the imgaedata into Train and Test folder"
      ]
    },
    {
      "cell_type": "code",
      "metadata": {
        "id": "9gbp1xmK_COE",
        "colab_type": "code",
        "colab": {}
      },
      "source": [
        "import os, os.path, shutil\n",
        "import random\n",
        "\n",
        "# train/valid split\n",
        "def creatsplit(inputdir):\n",
        "        pathDir = os.listdir(inputdir)       \n",
        "        split=int(len(pathDir)*0.3) \n",
        "        sample = random.sample(pathDir, split)  \n",
        "        for name in sample:\n",
        "                shutil.move(inputdir+name, outputdir+name)\n",
        "        return\n",
        "\n",
        "\n",
        "inputdir = \"/Users/vivek/Documents/DL/JF30/train/\"    # path where images originally in\n",
        "outputdir = \"/Users/vivek/Documents/DL/JF30/test/\"   # path where validation data go to\n",
        "creatsplit(inputdir)\n",
        "    "
      ],
      "execution_count": 0,
      "outputs": []
    },
    {
      "cell_type": "markdown",
      "metadata": {
        "id": "CGKUmnfODRxJ",
        "colab_type": "text"
      },
      "source": [
        "####Create folder inside Train dataset according to their classLabels"
      ]
    },
    {
      "cell_type": "code",
      "metadata": {
        "id": "1q_UJ4fSDTVw",
        "colab_type": "code",
        "colab": {}
      },
      "source": [
        "# classification inside train dataset\n",
        "traindf = \"/Users/vivek/Documents/DL/JF30/train/\"\n",
        "classLabels = open(\"/Users/vivek/Documents/DL/JF30/classlabels.txt\")\n",
        "\n",
        "images_train = [f for f in os.listdir(traindf) if os.path.isfile(os.path.join(traindf, f))]\n",
        "  \n",
        "for line in classLabels:\n",
        "    folderName = line.split(',')[1]\n",
        "    folderName = int(folderName)\n",
        "    folderName = str(folderName)\n",
        "    newPath = os.path.join(traindf, folderName)\n",
        "    for image in images_train:\n",
        "        if image == line.split(',')[0]:\n",
        "            if os.path.exists(newPath) == False:\n",
        "                os.makedirs(newPath)\n",
        "            oldImagePath = os.path.join(traindf, image)\n",
        "            shutil.move(oldImagePath, newPath)\n"
      ],
      "execution_count": 0,
      "outputs": []
    },
    {
      "cell_type": "markdown",
      "metadata": {
        "id": "swuu5fcGDbsc",
        "colab_type": "text"
      },
      "source": [
        "####Create folder inside Test dataset according to their classLabels"
      ]
    },
    {
      "cell_type": "code",
      "metadata": {
        "id": "SGabZr28DdB3",
        "colab_type": "code",
        "colab": {}
      },
      "source": [
        "# classification inside test dataset\n",
        "testdf = \"/Users/vivek/Documents/DL/JF30/test/\"\n",
        "classLabels = open(\"/Users/vivek/Documents/DL/JF30/classlabels.txt\")\n",
        "\n",
        "images_valid = [ff for ff in os.listdir(testdf) if os.path.isfile(os.path.join(testdf, ff))]\n",
        "  \n",
        "for line in classLabels:\n",
        "    folder_name = line.split(',')[1]\n",
        "    folder_name = int(folder_name)\n",
        "    folder_name = str(folder_name)\n",
        "    new_path = os.path.join(testdf, folder_name)\n",
        "    for image in images_valid:\n",
        "        if image == line.split(',')[0]:\n",
        "            if os.path.exists(new_path) == False:\n",
        "                os.makedirs(new_path)\n",
        "            oldImage_path = os.path.join(testdf, image)\n",
        "            shutil.move(oldImage_path, new_path)"
      ],
      "execution_count": 0,
      "outputs": []
    }
  ]
}