{
  "nbformat": 4,
  "nbformat_minor": 0,
  "metadata": {
    "colab": {
      "name": "DataPreprocess.ipynb",
      "provenance": []
    },
    "kernelspec": {
      "name": "python3",
      "display_name": "Python 3"
    }
  },
  "cells": [
    {
      "cell_type": "markdown",
      "metadata": {
        "id": "tYpgI4UgGHa7",
        "colab_type": "text"
      },
      "source": [
        "##Step 3: Data Preprocess "
      ]
    },
    {
      "cell_type": "code",
      "metadata": {
        "id": "GsY-ZGOEGpOZ",
        "colab_type": "code",
        "colab": {}
      },
      "source": [
        "train_dir = '/content/JF30/JF30/train/'\n",
        "test_dir = '/content/JF30/JF30/test/'\n",
        "image_size = 64\n",
        "\n",
        "#Training data with augmentation\n",
        "train_datagen = ImageDataGenerator(\n",
        "      rescale=1./255,\n",
        "      rotation_range=20,\n",
        "      width_shift_range=0.2,\n",
        "      height_shift_range=0.2,\n",
        "      horizontal_flip=True,\n",
        "      fill_mode='nearest')\n",
        "\n",
        "test_datagen = ImageDataGenerator(rescale=1./255)\n",
        "\n",
        "# Batchsize fixed according to the system RAM\n",
        "train_batchsize = 30\n",
        "tst_batchsize = 10\n",
        "\n",
        "# Data Generator for Training data\n",
        "train_generator = train_datagen.flow_from_directory(\n",
        "        train_dir,\n",
        "        target_size=(image_size, image_size),\n",
        "        batch_size=train_batchsize,\n",
        "        class_mode='categorical')\n",
        "# Data Generator for Test data\n",
        "test_generator = test_datagen.flow_from_directory(\n",
        "        test_dir,\n",
        "        target_size=(image_size, image_size),\n",
        "        batch_size=tst_batchsize,\n",
        "        class_mode='categorical',\n",
        "        shuffle=False)"
      ],
      "execution_count": 0,
      "outputs": []
    }
  ]
}