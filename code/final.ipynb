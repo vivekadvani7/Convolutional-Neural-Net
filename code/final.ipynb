{
  "nbformat": 4,
  "nbformat_minor": 0,
  "metadata": {
    "colab": {
      "name": "final.ipynb",
      "provenance": [],
      "collapsed_sections": []
    },
    "language_info": {
      "codemirror_mode": {
        "name": "ipython",
        "version": 3
      },
      "file_extension": ".py",
      "mimetype": "text/x-python",
      "name": "python",
      "nbconvert_exporter": "python",
      "pygments_lexer": "ipython3",
      "version": "3.7.3"
    },
    "kernelspec": {
      "display_name": "Python 3",
      "language": "python",
      "name": "python3"
    }
  },
  "cells": [
    {
      "cell_type": "markdown",
      "metadata": {
        "id": "heLtQ4Bj7K5f",
        "colab_type": "text"
      },
      "source": [
        "#Harward Jena Flowers dataset"
      ]
    },
    {
      "cell_type": "markdown",
      "metadata": {
        "colab_type": "text",
        "id": "KgX_dZIL-8iW"
      },
      "source": [
        "##Step 1: Import Libraries"
      ]
    },
    {
      "cell_type": "code",
      "metadata": {
        "id": "QWrja3CC7K5g",
        "colab_type": "code",
        "outputId": "754f2b8b-4414-4b06-f8da-700d74dcfc65",
        "colab": {
          "base_uri": "https://localhost:8080/",
          "height": 35
        }
      },
      "source": [
        "import tensorflow as tf\n",
        "from tensorflow import keras\n",
        "import numpy as np\n",
        "import pandas as pd\n",
        "import keras\n",
        "from keras import models\n",
        "from keras import layers\n",
        "from keras import optimizers\n",
        "import matplotlib.pyplot as plt\n",
        "from keras.models import Sequential\n",
        "from keras.layers import Dense\n",
        "from keras.layers import Dropout\n",
        "from keras.layers import Flatten\n",
        "from keras.layers import Activation\n",
        "from keras.layers.convolutional import Conv2D\n",
        "from keras.layers.convolutional import MaxPooling2D\n",
        "from keras.preprocessing.image import ImageDataGenerator\n",
        "from keras.applications import VGG16\n",
        "print(tf.__version__)"
      ],
      "execution_count": 0,
      "outputs": [
        {
          "output_type": "stream",
          "text": [
            "1.14.0\n"
          ],
          "name": "stdout"
        }
      ]
    },
    {
      "cell_type": "markdown",
      "metadata": {
        "id": "ev4s_lKM9izI",
        "colab_type": "text"
      },
      "source": [
        "##Step 2: Import Data"
      ]
    },
    {
      "cell_type": "markdown",
      "metadata": {
        "id": "PDdSQRnx-OpS",
        "colab_type": "text"
      },
      "source": [
        "####Split the imgaedata into Train and Test folder"
      ]
    },
    {
      "cell_type": "code",
      "metadata": {
        "id": "Iiz4PYMZ7K5j",
        "colab_type": "code",
        "colab": {}
      },
      "source": [
        "import os, os.path, shutil\n",
        "import random\n",
        "\n",
        "# train/valid split\n",
        "def creatsplit(inputdir):\n",
        "        pathDir = os.listdir(inputdir)       \n",
        "        split=int(len(pathDir)*0.3) \n",
        "        sample = random.sample(pathDir, split)  \n",
        "        for name in sample:\n",
        "                shutil.move(inputdir+name, outputdir+name)\n",
        "        return\n",
        "\n",
        "\n",
        "inputdir = \"/Users/vivek/Documents/DL/JF30/train/\"    # path where images originally in\n",
        "outputdir = \"/Users/vivek/Documents/DL/JF30/test/\"   # path where validation data go to\n",
        "creatsplit(inputdir)\n",
        "    "
      ],
      "execution_count": 0,
      "outputs": []
    },
    {
      "cell_type": "markdown",
      "metadata": {
        "id": "TGPwovYs9uV_",
        "colab_type": "text"
      },
      "source": [
        "####Create folder inside Train dataset according to their classLabels"
      ]
    },
    {
      "cell_type": "code",
      "metadata": {
        "id": "qrgHQsib7K5l",
        "colab_type": "code",
        "colab": {}
      },
      "source": [
        "# classification inside train dataset\n",
        "traindf = \"/Users/vivek/Documents/DL/JF30/train/\"\n",
        "classLabels = open(\"/Users/vivek/Documents/DL/JF30/classlabels.txt\")\n",
        "\n",
        "images_train = [f for f in os.listdir(traindf) if os.path.isfile(os.path.join(traindf, f))]\n",
        "  \n",
        "for line in classLabels:\n",
        "    folderName = line.split(',')[1]\n",
        "    folderName = int(folderName)\n",
        "    folderName = str(folderName)\n",
        "    newPath = os.path.join(traindf, folderName)\n",
        "    for image in images_train:\n",
        "        if image == line.split(',')[0]:\n",
        "            if os.path.exists(newPath) == False:\n",
        "                os.makedirs(newPath)\n",
        "            oldImagePath = os.path.join(traindf, image)\n",
        "            shutil.move(oldImagePath, newPath)\n"
      ],
      "execution_count": 0,
      "outputs": []
    },
    {
      "cell_type": "markdown",
      "metadata": {
        "colab_type": "text",
        "id": "GChvNLGn-upW"
      },
      "source": [
        "####Create folder inside Test dataset according to their classLabels"
      ]
    },
    {
      "cell_type": "code",
      "metadata": {
        "id": "2cQ2xg_D7K5n",
        "colab_type": "code",
        "colab": {}
      },
      "source": [
        "# classification inside test dataset\n",
        "testdf = \"/Users/vivek/Documents/DL/JF30/test/\"\n",
        "classLabels = open(\"/Users/vivek/Documents/DL/JF30/classlabels.txt\")\n",
        "\n",
        "images_valid = [ff for ff in os.listdir(testdf) if os.path.isfile(os.path.join(testdf, ff))]\n",
        "  \n",
        "for line in classLabels:\n",
        "    folder_name = line.split(',')[1]\n",
        "    folder_name = int(folder_name)\n",
        "    folder_name = str(folder_name)\n",
        "    new_path = os.path.join(testdf, folder_name)\n",
        "    for image in images_valid:\n",
        "        if image == line.split(',')[0]:\n",
        "            if os.path.exists(new_path) == False:\n",
        "                os.makedirs(new_path)\n",
        "            oldImage_path = os.path.join(testdf, image)\n",
        "            shutil.move(oldImage_path, new_path)"
      ],
      "execution_count": 0,
      "outputs": []
    },
    {
      "cell_type": "markdown",
      "metadata": {
        "id": "heGPles_UTOo",
        "colab_type": "text"
      },
      "source": [
        "####Mount Drive to access the dataset"
      ]
    },
    {
      "cell_type": "code",
      "metadata": {
        "id": "JV-DLMUJ7K5o",
        "colab_type": "code",
        "outputId": "761bea82-f47b-4663-ab43-bfc90cf1d3a0",
        "colab": {
          "base_uri": "https://localhost:8080/",
          "height": 124
        }
      },
      "source": [
        "from google.colab import drive\n",
        "drive.mount('/content/drive')\n",
        "\n"
      ],
      "execution_count": 0,
      "outputs": [
        {
          "output_type": "stream",
          "text": [
            "Go to this URL in a browser: https://accounts.google.com/o/oauth2/auth?client_id=947318989803-6bn6qk8qdgf4n4g3pfee6491hc0brc4i.apps.googleusercontent.com&redirect_uri=urn%3Aietf%3Awg%3Aoauth%3A2.0%3Aoob&scope=email%20https%3A%2F%2Fwww.googleapis.com%2Fauth%2Fdocs.test%20https%3A%2F%2Fwww.googleapis.com%2Fauth%2Fdrive%20https%3A%2F%2Fwww.googleapis.com%2Fauth%2Fdrive.photos.readonly%20https%3A%2F%2Fwww.googleapis.com%2Fauth%2Fpeopleapi.readonly&response_type=code\n",
            "\n",
            "Enter your authorization code:\n",
            "··········\n",
            "Mounted at /content/drive\n"
          ],
          "name": "stdout"
        }
      ]
    },
    {
      "cell_type": "code",
      "metadata": {
        "id": "rwHDkvd6Bj6m",
        "colab_type": "code",
        "colab": {}
      },
      "source": [
        "#copied it to collaboratory\n",
        "!cp \"/content/drive/My Drive/JF30.zip\" \"JF30.zip\"\n",
        "\n",
        "#unzipped\n",
        "import zipfile\n",
        "zip_ref = zipfile.ZipFile('JF30.zip', 'r')\n",
        "zip_ref.extractall('JF30') # unzip directory\n",
        "zip_ref.close()"
      ],
      "execution_count": 0,
      "outputs": []
    },
    {
      "cell_type": "markdown",
      "metadata": {
        "id": "GZCBHmq2_Y8g",
        "colab_type": "text"
      },
      "source": [
        "##Step 3: Preprocess "
      ]
    },
    {
      "cell_type": "code",
      "metadata": {
        "id": "jstmP43TAqrT",
        "colab_type": "code",
        "colab": {}
      },
      "source": [
        "train_dir = '/content/JF30/JF30/train/'\n",
        "test_dir = '/content/JF30/JF30/test/'\n",
        "image_size = 64"
      ],
      "execution_count": 0,
      "outputs": []
    },
    {
      "cell_type": "code",
      "metadata": {
        "id": "EvR0uDRM7K5r",
        "colab_type": "code",
        "outputId": "c7eacdcf-1ddf-4187-a037-54e4811d632a",
        "colab": {
          "base_uri": "https://localhost:8080/",
          "height": 52
        }
      },
      "source": [
        "#Training data with augmentation\n",
        "train_datagen = ImageDataGenerator(\n",
        "      rescale=1./255,\n",
        "      rotation_range=20,\n",
        "      width_shift_range=0.2,\n",
        "      height_shift_range=0.2,\n",
        "      horizontal_flip=True,\n",
        "      fill_mode='nearest')\n",
        "\n",
        "test_datagen = ImageDataGenerator(rescale=1./255)\n",
        "\n",
        "# Batchsize fixed according to the system RAM\n",
        "train_batchsize = 30\n",
        "tst_batchsize = 10\n",
        "\n",
        "# Data Generator for Training data\n",
        "train_generator = train_datagen.flow_from_directory(\n",
        "        train_dir,\n",
        "        target_size=(image_size, image_size),\n",
        "        batch_size=train_batchsize,\n",
        "        class_mode='categorical')\n",
        "# Data Generator for Test data\n",
        "test_generator = test_datagen.flow_from_directory(\n",
        "        test_dir,\n",
        "        target_size=(image_size, image_size),\n",
        "        batch_size=tst_batchsize,\n",
        "        class_mode='categorical',\n",
        "        shuffle=False)"
      ],
      "execution_count": 0,
      "outputs": [
        {
          "output_type": "stream",
          "text": [
            "Found 1036 images belonging to 30 classes.\n",
            "Found 443 images belonging to 30 classes.\n"
          ],
          "name": "stdout"
        }
      ]
    },
    {
      "cell_type": "markdown",
      "metadata": {
        "id": "sZRyDvi1_-_x",
        "colab_type": "text"
      },
      "source": [
        "#### Baseline"
      ]
    },
    {
      "cell_type": "code",
      "metadata": {
        "id": "FI8OCh4MVd2T",
        "colab_type": "code",
        "outputId": "8a8e167e-b3e4-4a55-c534-fbeeba16cea5",
        "colab": {
          "base_uri": "https://localhost:8080/",
          "height": 35
        }
      },
      "source": [
        "classlabels= pd.read_csv(\"classlabels.txt\", sep=\",\")\n",
        "classlabels.columns = [\"Image\", \"Class\"]\n",
        "baseline = classlabels['Class'].value_counts() * 100 / len(classlabels['Class'])\n",
        "print(\"Baseline is:\",baseline[6])"
      ],
      "execution_count": 0,
      "outputs": [
        {
          "output_type": "stream",
          "text": [
            "Baseline is: 4.7361299052774015\n"
          ],
          "name": "stdout"
        }
      ]
    },
    {
      "cell_type": "markdown",
      "metadata": {
        "id": "MXGQCfPkXZmp",
        "colab_type": "text"
      },
      "source": [
        "##Step 4: Build a CNN  Model"
      ]
    },
    {
      "cell_type": "code",
      "metadata": {
        "id": "MBt_jKUc7K5u",
        "colab_type": "code",
        "outputId": "13b466ae-c3be-4116-9aba-13a6000e0bff",
        "colab": {
          "base_uri": "https://localhost:8080/",
          "height": 280
        }
      },
      "source": [
        "# Create the model\n",
        "model = Sequential()\n",
        "model.add(Conv2D(32, (3, 3), padding='same', input_shape=(image_size, image_size, 3)))\n",
        "model.add(Activation('relu'))\n",
        "model.add(Conv2D(32,(3, 3)))\n",
        "model.add(Activation('relu'))\n",
        "model.add(MaxPooling2D(pool_size=(2, 2)))\n",
        "model.add(Dropout(0.25))\n",
        " \n",
        "model.add(Conv2D(32, (3, 3), padding='same'))\n",
        "model.add(Activation('relu'))\n",
        "model.add(Conv2D(32, (3,3)))\n",
        "model.add(Activation('relu'))\n",
        "model.add(MaxPooling2D(pool_size=(2, 2)))\n",
        "model.add(Dropout(0.25))\n",
        " \n",
        "model.add(Flatten())\n",
        "model.add(Dense(512))\n",
        "model.add(Activation('relu'))\n",
        "model.add(Dropout(0.5))\n",
        "# Output classes are 30\n",
        "model.add(Dense(30))\n",
        "model.add(Activation('softmax'))\n",
        "\n"
      ],
      "execution_count": 0,
      "outputs": [
        {
          "output_type": "stream",
          "text": [
            "WARNING: Logging before flag parsing goes to stderr.\n",
            "W0713 05:43:54.566454 140476071466880 deprecation_wrapper.py:119] From /usr/local/lib/python3.6/dist-packages/keras/backend/tensorflow_backend.py:74: The name tf.get_default_graph is deprecated. Please use tf.compat.v1.get_default_graph instead.\n",
            "\n",
            "W0713 05:43:54.608657 140476071466880 deprecation_wrapper.py:119] From /usr/local/lib/python3.6/dist-packages/keras/backend/tensorflow_backend.py:517: The name tf.placeholder is deprecated. Please use tf.compat.v1.placeholder instead.\n",
            "\n",
            "W0713 05:43:54.617518 140476071466880 deprecation_wrapper.py:119] From /usr/local/lib/python3.6/dist-packages/keras/backend/tensorflow_backend.py:4138: The name tf.random_uniform is deprecated. Please use tf.random.uniform instead.\n",
            "\n",
            "W0713 05:43:54.677572 140476071466880 deprecation_wrapper.py:119] From /usr/local/lib/python3.6/dist-packages/keras/backend/tensorflow_backend.py:3976: The name tf.nn.max_pool is deprecated. Please use tf.nn.max_pool2d instead.\n",
            "\n",
            "W0713 05:43:54.680917 140476071466880 deprecation_wrapper.py:119] From /usr/local/lib/python3.6/dist-packages/keras/backend/tensorflow_backend.py:133: The name tf.placeholder_with_default is deprecated. Please use tf.compat.v1.placeholder_with_default instead.\n",
            "\n",
            "W0713 05:43:54.696049 140476071466880 deprecation.py:506] From /usr/local/lib/python3.6/dist-packages/keras/backend/tensorflow_backend.py:3445: calling dropout (from tensorflow.python.ops.nn_ops) with keep_prob is deprecated and will be removed in a future version.\n",
            "Instructions for updating:\n",
            "Please use `rate` instead of `keep_prob`. Rate should be set to `rate = 1 - keep_prob`.\n"
          ],
          "name": "stderr"
        }
      ]
    },
    {
      "cell_type": "markdown",
      "metadata": {
        "id": "iUxNJvKOXYaH",
        "colab_type": "text"
      },
      "source": [
        "## Step 5: Fit Model"
      ]
    },
    {
      "cell_type": "code",
      "metadata": {
        "id": "Ql1QyBWpTHtX",
        "colab_type": "code",
        "outputId": "c72c5f92-c0f8-4a3f-d856-c8a6a86840ce",
        "colab": {
          "base_uri": "https://localhost:8080/",
          "height": 852
        }
      },
      "source": [
        "# Compile the model\n",
        "model.compile(loss='categorical_crossentropy',\n",
        "              optimizer=optimizers.RMSprop(lr=1e-4),\n",
        "              metrics=['acc'])\n",
        "\n",
        "# Train the Model\n",
        "history = model.fit_generator(\n",
        "      train_generator,\n",
        "      steps_per_epoch=train_generator.samples/train_generator.batch_size ,\n",
        "      epochs=20,\n",
        "      validation_data=test_generator,\n",
        "      validation_steps=test_generator.samples/test_generator.batch_size,\n",
        "      verbose=1)\n"
      ],
      "execution_count": 0,
      "outputs": [
        {
          "output_type": "stream",
          "text": [
            "W0713 05:44:27.137756 140476071466880 deprecation_wrapper.py:119] From /usr/local/lib/python3.6/dist-packages/keras/optimizers.py:790: The name tf.train.Optimizer is deprecated. Please use tf.compat.v1.train.Optimizer instead.\n",
            "\n",
            "W0713 05:44:27.153086 140476071466880 deprecation_wrapper.py:119] From /usr/local/lib/python3.6/dist-packages/keras/backend/tensorflow_backend.py:3295: The name tf.log is deprecated. Please use tf.math.log instead.\n",
            "\n",
            "W0713 05:44:27.292404 140476071466880 deprecation.py:323] From /usr/local/lib/python3.6/dist-packages/tensorflow/python/ops/math_grad.py:1250: add_dispatch_support.<locals>.wrapper (from tensorflow.python.ops.array_ops) is deprecated and will be removed in a future version.\n",
            "Instructions for updating:\n",
            "Use tf.where in 2.0, which has the same broadcast rule as np.where\n"
          ],
          "name": "stderr"
        },
        {
          "output_type": "stream",
          "text": [
            "Epoch 1/20\n",
            "35/34 [==============================] - 46s 1s/step - loss: 3.3718 - acc: 0.0616 - val_loss: 3.3148 - val_acc: 0.0767\n",
            "Epoch 2/20\n",
            "35/34 [==============================] - 40s 1s/step - loss: 3.3021 - acc: 0.0769 - val_loss: 3.1968 - val_acc: 0.0790\n",
            "Epoch 3/20\n",
            "35/34 [==============================] - 39s 1s/step - loss: 3.1341 - acc: 0.1129 - val_loss: 3.0105 - val_acc: 0.1038\n",
            "Epoch 4/20\n",
            "35/34 [==============================] - 40s 1s/step - loss: 3.0300 - acc: 0.1075 - val_loss: 2.8916 - val_acc: 0.1964\n",
            "Epoch 5/20\n",
            "35/34 [==============================] - 40s 1s/step - loss: 2.9121 - acc: 0.1319 - val_loss: 2.7999 - val_acc: 0.1896\n",
            "Epoch 6/20\n",
            "35/34 [==============================] - 40s 1s/step - loss: 2.8640 - acc: 0.1379 - val_loss: 2.7058 - val_acc: 0.1761\n",
            "Epoch 7/20\n",
            "35/34 [==============================] - 40s 1s/step - loss: 2.7687 - acc: 0.1666 - val_loss: 2.6027 - val_acc: 0.2438\n",
            "Epoch 8/20\n",
            "35/34 [==============================] - 40s 1s/step - loss: 2.6984 - acc: 0.1587 - val_loss: 2.5390 - val_acc: 0.2731\n",
            "Epoch 9/20\n",
            "35/34 [==============================] - 40s 1s/step - loss: 2.6152 - acc: 0.1847 - val_loss: 2.3876 - val_acc: 0.3273\n",
            "Epoch 10/20\n",
            "35/34 [==============================] - 41s 1s/step - loss: 2.6230 - acc: 0.1956 - val_loss: 2.3665 - val_acc: 0.2777\n",
            "Epoch 11/20\n",
            "35/34 [==============================] - 42s 1s/step - loss: 2.5216 - acc: 0.2316 - val_loss: 2.2993 - val_acc: 0.3454\n",
            "Epoch 12/20\n",
            "35/34 [==============================] - 41s 1s/step - loss: 2.4849 - acc: 0.2218 - val_loss: 2.2075 - val_acc: 0.3905\n",
            "Epoch 13/20\n",
            "35/34 [==============================] - 41s 1s/step - loss: 2.4441 - acc: 0.2395 - val_loss: 2.1345 - val_acc: 0.4108\n",
            "Epoch 14/20\n",
            "35/34 [==============================] - 41s 1s/step - loss: 2.3518 - acc: 0.2610 - val_loss: 2.0520 - val_acc: 0.3476\n",
            "Epoch 15/20\n",
            "35/34 [==============================] - 41s 1s/step - loss: 2.2849 - acc: 0.2670 - val_loss: 2.0234 - val_acc: 0.3995\n",
            "Epoch 16/20\n",
            "35/34 [==============================] - 41s 1s/step - loss: 2.2732 - acc: 0.2737 - val_loss: 1.9783 - val_acc: 0.3837\n",
            "Epoch 17/20\n",
            "35/34 [==============================] - 40s 1s/step - loss: 2.1722 - acc: 0.2916 - val_loss: 1.8196 - val_acc: 0.5079\n",
            "Epoch 18/20\n",
            "35/34 [==============================] - 41s 1s/step - loss: 2.1403 - acc: 0.3076 - val_loss: 1.7550 - val_acc: 0.5034\n",
            "Epoch 19/20\n",
            "35/34 [==============================] - 42s 1s/step - loss: 2.1007 - acc: 0.3208 - val_loss: 1.7773 - val_acc: 0.4673\n",
            "Epoch 20/20\n",
            "35/34 [==============================] - 41s 1s/step - loss: 2.0315 - acc: 0.3387 - val_loss: 1.6247 - val_acc: 0.5688\n"
          ],
          "name": "stdout"
        }
      ]
    },
    {
      "cell_type": "markdown",
      "metadata": {
        "id": "9E1uqV2nXXdm",
        "colab_type": "text"
      },
      "source": [
        "## Step 6: Plot Results"
      ]
    },
    {
      "cell_type": "code",
      "metadata": {
        "id": "kkOdm-fsTa9T",
        "colab_type": "code",
        "outputId": "9e0c4633-980b-4b0b-cabb-c0f63ae8344a",
        "colab": {
          "base_uri": "https://localhost:8080/",
          "height": 283
        }
      },
      "source": [
        "def plot_history(history):\n",
        "  plt.figure()\n",
        "  plt.xlabel('Epoch')\n",
        "  plt.ylabel('Accuracy')\n",
        "  plt.plot(history.epoch, np.array(history.history['acc']),\n",
        "           label='Train Loss')\n",
        "  plt.plot(history.epoch, np.array(history.history['val_acc']),\n",
        "           label = 'Validation loss')\n",
        "  plt.legend()\n",
        "  plt.ylim([0, 1])\n",
        "\n",
        "plot_history(history)"
      ],
      "execution_count": 0,
      "outputs": [
        {
          "output_type": "display_data",
          "data": {
            "image/png": "[encoded data removed]",
            "text/plain": [
              "<Figure size 432x288 with 1 Axes>"
            ]
          },
          "metadata": {
            "tags": []
          }
        }
      ]
    },
    {
      "cell_type": "markdown",
      "metadata": {
        "id": "UZ5n6KhQXVdT",
        "colab_type": "text"
      },
      "source": [
        "##Step 7: Build a Fine-Tuned  Model of VGG"
      ]
    },
    {
      "cell_type": "code",
      "metadata": {
        "id": "vOGy-hk77K5w",
        "colab_type": "code",
        "outputId": "7fb4dca3-f62f-4d9e-bc02-a2d16b31409c",
        "colab": {
          "base_uri": "https://localhost:8080/",
          "height": 1127
        }
      },
      "source": [
        "#Load the VGG model\n",
        "vgg_conv = VGG16(weights='imagenet', include_top=False, input_shape=(image_size, image_size, 3))\n",
        "\n",
        "# Freeze all the layers\n",
        "for layer in vgg_conv.layers[:]:\n",
        "    layer.trainable = False\n",
        "# Check the trainable status of the individual layers\n",
        "for layer in vgg_conv.layers:\n",
        "    print(layer, layer.trainable)\n",
        "\n",
        "\n",
        "\n",
        "\n",
        "# Create the model\n",
        "model_vgg = models.Sequential()\n",
        "# Add the vgg convolutional base model\n",
        "model_vgg.add(vgg_conv)\n",
        "# Add new layers\n",
        "model_vgg.add(layers.Flatten())\n",
        "model_vgg.add(layers.Dense(512, activation='relu'))\n",
        "model_vgg.add(layers.Dropout(0.5))\n",
        "model_vgg.add(layers.Dense(30, activation='softmax'))\n",
        "\n",
        "# Show a summary of the model. Check the number of trainable parameters\n",
        "model.summary()"
      ],
      "execution_count": 0,
      "outputs": [
        {
          "output_type": "stream",
          "text": [
            "Downloading data from https://github.com/fchollet/deep-learning-models/releases/download/v0.1/vgg16_weights_tf_dim_ordering_tf_kernels_notop.h5\n",
            "58892288/58889256 [==============================] - 1s 0us/step\n",
            "<keras.engine.input_layer.InputLayer object at 0x7fc2e6feed68> False\n",
            "<keras.layers.convolutional.Conv2D object at 0x7fc2e6feeb38> False\n",
            "<keras.layers.convolutional.Conv2D object at 0x7fc2e6feeeb8> False\n",
            "<keras.layers.pooling.MaxPooling2D object at 0x7fc2e6fee198> False\n",
            "<keras.layers.convolutional.Conv2D object at 0x7fc2e6fd8a58> False\n",
            "<keras.layers.convolutional.Conv2D object at 0x7fc2e6fac8d0> False\n",
            "<keras.layers.pooling.MaxPooling2D object at 0x7fc2e6f449e8> False\n",
            "<keras.layers.convolutional.Conv2D object at 0x7fc2e6f44b38> False\n",
            "<keras.layers.convolutional.Conv2D object at 0x7fc2e6f567f0> False\n",
            "<keras.layers.convolutional.Conv2D object at 0x7fc2e6f057f0> False\n",
            "<keras.layers.pooling.MaxPooling2D object at 0x7fc2e6f16e80> False\n",
            "<keras.layers.convolutional.Conv2D object at 0x7fc2e6f16400> False\n",
            "<keras.layers.convolutional.Conv2D object at 0x7fc2e6ec79e8> False\n",
            "<keras.layers.convolutional.Conv2D object at 0x7fc2e6edec50> False\n",
            "<keras.layers.pooling.MaxPooling2D object at 0x7fc2e6ef4940> False\n",
            "<keras.layers.convolutional.Conv2D object at 0x7fc2e6ef4908> False\n",
            "<keras.layers.convolutional.Conv2D object at 0x7fc2e6ea6dd8> False\n",
            "<keras.layers.convolutional.Conv2D object at 0x7fc2e6ebad30> False\n",
            "<keras.layers.pooling.MaxPooling2D object at 0x7fc2e6e50b70> False\n",
            "_________________________________________________________________\n",
            "Layer (type)                 Output Shape              Param #   \n",
            "=================================================================\n",
            "conv2d_1 (Conv2D)            (None, 64, 64, 32)        896       \n",
            "_________________________________________________________________\n",
            "activation_1 (Activation)    (None, 64, 64, 32)        0         \n",
            "_________________________________________________________________\n",
            "conv2d_2 (Conv2D)            (None, 62, 62, 32)        9248      \n",
            "_________________________________________________________________\n",
            "activation_2 (Activation)    (None, 62, 62, 32)        0         \n",
            "_________________________________________________________________\n",
            "max_pooling2d_1 (MaxPooling2 (None, 31, 31, 32)        0         \n",
            "_________________________________________________________________\n",
            "dropout_1 (Dropout)          (None, 31, 31, 32)        0         \n",
            "_________________________________________________________________\n",
            "conv2d_3 (Conv2D)            (None, 31, 31, 32)        9248      \n",
            "_________________________________________________________________\n",
            "activation_3 (Activation)    (None, 31, 31, 32)        0         \n",
            "_________________________________________________________________\n",
            "conv2d_4 (Conv2D)            (None, 29, 29, 32)        9248      \n",
            "_________________________________________________________________\n",
            "activation_4 (Activation)    (None, 29, 29, 32)        0         \n",
            "_________________________________________________________________\n",
            "max_pooling2d_2 (MaxPooling2 (None, 14, 14, 32)        0         \n",
            "_________________________________________________________________\n",
            "dropout_2 (Dropout)          (None, 14, 14, 32)        0         \n",
            "_________________________________________________________________\n",
            "flatten_1 (Flatten)          (None, 6272)              0         \n",
            "_________________________________________________________________\n",
            "dense_1 (Dense)              (None, 512)               3211776   \n",
            "_________________________________________________________________\n",
            "activation_5 (Activation)    (None, 512)               0         \n",
            "_________________________________________________________________\n",
            "dropout_3 (Dropout)          (None, 512)               0         \n",
            "_________________________________________________________________\n",
            "dense_2 (Dense)              (None, 30)                15390     \n",
            "_________________________________________________________________\n",
            "activation_6 (Activation)    (None, 30)                0         \n",
            "=================================================================\n",
            "Total params: 3,255,806\n",
            "Trainable params: 3,255,806\n",
            "Non-trainable params: 0\n",
            "_________________________________________________________________\n"
          ],
          "name": "stdout"
        }
      ]
    },
    {
      "cell_type": "markdown",
      "metadata": {
        "colab_type": "text",
        "id": "2c8KEyFIaPx9"
      },
      "source": [
        "## Step 8: Fit Fine-Tuned  VGG Model"
      ]
    },
    {
      "cell_type": "code",
      "metadata": {
        "id": "5qJmCJAY7K5z",
        "colab_type": "code",
        "outputId": "febb92ee-d2ed-447f-f73c-199926ebc9d8",
        "colab": {
          "base_uri": "https://localhost:8080/",
          "height": 295
        }
      },
      "source": [
        "# Compile the model\n",
        "model_vgg.compile(loss='categorical_crossentropy',\n",
        "              optimizer=optimizers.RMSprop(lr=1e-4),\n",
        "              metrics=['acc'])\n",
        "\n",
        "# Train the Model\n",
        "history = model_vgg.fit_generator(\n",
        "      train_generator,\n",
        "      steps_per_epoch=train_generator.samples/train_generator.batch_size ,\n",
        "      epochs=8,\n",
        "      validation_data=test_generator,\n",
        "      validation_steps=test_generator.samples/test_generator.batch_size,\n",
        "      verbose=1)\n",
        "\n",
        "\n",
        "\n"
      ],
      "execution_count": 0,
      "outputs": [
        {
          "output_type": "stream",
          "text": [
            "Epoch 1/8\n",
            "35/34 [==============================] - 93s 3s/step - loss: 3.3160 - acc: 0.0932 - val_loss: 2.8800 - val_acc: 0.3251\n",
            "Epoch 2/8\n",
            "35/34 [==============================] - 84s 2s/step - loss: 2.8839 - acc: 0.2097 - val_loss: 2.5195 - val_acc: 0.4312\n",
            "Epoch 3/8\n",
            "35/34 [==============================] - 85s 2s/step - loss: 2.5567 - acc: 0.3261 - val_loss: 2.2323 - val_acc: 0.5418\n",
            "Epoch 4/8\n",
            "35/34 [==============================] - 84s 2s/step - loss: 2.2654 - acc: 0.4015 - val_loss: 2.0010 - val_acc: 0.5847\n",
            "Epoch 5/8\n",
            "35/34 [==============================] - 84s 2s/step - loss: 2.0964 - acc: 0.4579 - val_loss: 1.7991 - val_acc: 0.6411\n",
            "Epoch 6/8\n",
            "35/34 [==============================] - 84s 2s/step - loss: 1.9242 - acc: 0.4955 - val_loss: 1.6387 - val_acc: 0.6637\n",
            "Epoch 7/8\n",
            "35/34 [==============================] - 85s 2s/step - loss: 1.7467 - acc: 0.5535 - val_loss: 1.5218 - val_acc: 0.6727\n",
            "Epoch 8/8\n",
            "35/34 [==============================] - 85s 2s/step - loss: 1.6540 - acc: 0.5638 - val_loss: 1.4045 - val_acc: 0.6907\n"
          ],
          "name": "stdout"
        }
      ]
    },
    {
      "cell_type": "markdown",
      "metadata": {
        "colab_type": "text",
        "id": "kN-QpaEAadkJ"
      },
      "source": [
        "## Step 9: Plot Results"
      ]
    },
    {
      "cell_type": "code",
      "metadata": {
        "id": "VXlqhzpm7K52",
        "colab_type": "code",
        "outputId": "c92aa827-b7a3-4320-8c58-425e135d2c37",
        "colab": {
          "base_uri": "https://localhost:8080/",
          "height": 545
        }
      },
      "source": [
        "# Plot the accuracy and loss curves\n",
        "acc = history.history['acc']\n",
        "val_acc = history.history['val_acc']\n",
        "loss = history.history['loss']\n",
        "val_loss = history.history['val_loss']\n",
        "\n",
        "epochs = range(len(acc))\n",
        "\n",
        "plt.plot(epochs, acc, 'b', label='Training acc')\n",
        "plt.plot(epochs, val_acc, 'r', label='Test acc')\n",
        "plt.title('Training and test accuracy')\n",
        "plt.legend()\n",
        "\n",
        "plt.figure()\n",
        "\n",
        "plt.plot(epochs, loss, 'b', label='Training loss')\n",
        "plt.plot(epochs, val_loss, 'r', label='Test loss')\n",
        "plt.title('Training and test loss')\n",
        "plt.legend()\n",
        "\n",
        "plt.show()"
      ],
      "execution_count": 0,
      "outputs": [
        {
          "output_type": "display_data",
          "data": {
            "image/png": "[encoded data removed]",
            "text/plain": [
              "<Figure size 432x288 with 1 Axes>"
            ]
          },
          "metadata": {
            "tags": []
          }
        },
        {
          "output_type": "display_data",
          "data": {
            "image/png": "[encoded data removed]",
            "text/plain": [
              "<Figure size 432x288 with 1 Axes>"
            ]
          },
          "metadata": {
            "tags": []
          }
        }
      ]
    },
    {
      "cell_type": "code",
      "metadata": {
        "id": "k10NiZ_J7K54",
        "colab_type": "code",
        "outputId": "0094801d-8c29-40c6-d19e-ddbc08532996",
        "colab": {
          "base_uri": "https://localhost:8080/",
          "height": 572
        }
      },
      "source": [
        "history.history"
      ],
      "execution_count": 0,
      "outputs": [
        {
          "output_type": "execute_result",
          "data": {
            "text/plain": [
              "{'acc': [0.09362934749127585,\n",
              "  0.20752896233299983,\n",
              "  0.3262548338492405,\n",
              "  0.4034749098611154,\n",
              "  0.4565637126622513,\n",
              "  0.49710425406579345,\n",
              "  0.5550193150588905,\n",
              "  0.5646718228990967],\n",
              " 'loss': [3.3144315412145784,\n",
              "  2.8880023882656025,\n",
              "  2.5543695016257093,\n",
              "  2.2626410207232914,\n",
              "  2.096930919466792,\n",
              "  1.9244040193244758,\n",
              "  1.7436251904973652,\n",
              "  1.6536897600387515],\n",
              " 'val_acc': [0.32505643522497224,\n",
              "  0.43115124291410295,\n",
              "  0.5417607225158144,\n",
              "  0.5846501124968109,\n",
              "  0.6410835212428737,\n",
              "  0.6636568866922409,\n",
              "  0.6726862303492178,\n",
              "  0.6907449195132029],\n",
              " 'val_loss': [2.8799573820815936,\n",
              "  2.5194899890546605,\n",
              "  2.232281487628515,\n",
              "  2.0010357757454265,\n",
              "  1.799082395858205,\n",
              "  1.6387004020117206,\n",
              "  1.5217604557762834,\n",
              "  1.404469945764434]}"
            ]
          },
          "metadata": {
            "tags": []
          },
          "execution_count": 21
        }
      ]
    }
  ]
}